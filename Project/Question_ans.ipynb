{
 "cells": [
  {
   "cell_type": "code",
   "execution_count": 1,
   "metadata": {},
   "outputs": [
    {
     "name": "stderr",
     "output_type": "stream",
     "text": [
      "c:\\Users\\smdar\\AppData\\Local\\Programs\\Python\\Python310\\lib\\site-packages\\tqdm\\auto.py:21: TqdmWarning: IProgress not found. Please update jupyter and ipywidgets. See https://ipywidgets.readthedocs.io/en/stable/user_install.html\n",
      "  from .autonotebook import tqdm as notebook_tqdm\n"
     ]
    }
   ],
   "source": [
    "import torch\n",
    "from transformers import AutoModelForQuestionAnswering ,AutoTokenizer , pipeline\n",
    "from sklearn.metrics.pairwise import cosine_similarity\n",
    "from sentence_transformers import SentenceTransformer\n"
   ]
  },
  {
   "cell_type": "code",
   "execution_count": 2,
   "metadata": {},
   "outputs": [],
   "source": [
    "model_name = 'deepset/roberta-base-squad2'\n",
    "model1 = \"all-mpnet-base-v2\"\n"
   ]
  },
  {
   "cell_type": "code",
   "execution_count": 3,
   "metadata": {},
   "outputs": [],
   "source": [
    "model = AutoModelForQuestionAnswering.from_pretrained(model_name)\n",
    "tokenizer = AutoTokenizer.from_pretrained(model_name)\n",
    "encoder = SentenceTransformer(model1)"
   ]
  },
  {
   "cell_type": "code",
   "execution_count": 4,
   "metadata": {},
   "outputs": [],
   "source": [
    "from langchain.document_loaders import TextLoader\n",
    "\n",
    "loader = TextLoader(r\"C:\\Users\\smdar\\OneDrive\\Desktop\\chat.txt\")\n",
    "text = loader.load()"
   ]
  },
  {
   "cell_type": "code",
   "execution_count": 5,
   "metadata": {},
   "outputs": [],
   "source": [
    "from langchain.text_splitter import RecursiveCharacterTextSplitter\n",
    "\n",
    "text_splitter = RecursiveCharacterTextSplitter(\n",
    "    separators = [\"\\n\",\" \",\",\"],\n",
    "    chunk_size = 100,\n",
    "    chunk_overlap = 0\n",
    ")\n",
    "chunks = text_splitter.split_documents(text)"
   ]
  },
  {
   "cell_type": "code",
   "execution_count": 6,
   "metadata": {},
   "outputs": [],
   "source": [
    "import pandas as pd\n",
    "try:\n",
    "    df = pd.read_csv(r\"C:\\Users\\smdar\\Desktop\\QA.csv\",on_bad_lines='skip')\n",
    "except pd.errors.ParserError as e:\n",
    "    print(f\"Error parsing file: {e}\")"
   ]
  },
  {
   "cell_type": "code",
   "execution_count": 7,
   "metadata": {},
   "outputs": [
    {
     "data": {
      "text/html": [
       "<div>\n",
       "<style scoped>\n",
       "    .dataframe tbody tr th:only-of-type {\n",
       "        vertical-align: middle;\n",
       "    }\n",
       "\n",
       "    .dataframe tbody tr th {\n",
       "        vertical-align: top;\n",
       "    }\n",
       "\n",
       "    .dataframe thead th {\n",
       "        text-align: right;\n",
       "    }\n",
       "</style>\n",
       "<table border=\"1\" class=\"dataframe\">\n",
       "  <thead>\n",
       "    <tr style=\"text-align: right;\">\n",
       "      <th></th>\n",
       "      <th>Question</th>\n",
       "      <th>Answer</th>\n",
       "    </tr>\n",
       "  </thead>\n",
       "  <tbody>\n",
       "    <tr>\n",
       "      <th>0</th>\n",
       "      <td>What is machine learning?</td>\n",
       "      <td>Machine learning is a subset of artificial int...</td>\n",
       "    </tr>\n",
       "    <tr>\n",
       "      <th>1</th>\n",
       "      <td>What are the main types of machine learning?</td>\n",
       "      <td>The main types of machine learning are supervi...</td>\n",
       "    </tr>\n",
       "    <tr>\n",
       "      <th>2</th>\n",
       "      <td>Can you explain supervised learning?</td>\n",
       "      <td>Supervised learning is a type of machine learn...</td>\n",
       "    </tr>\n",
       "    <tr>\n",
       "      <th>3</th>\n",
       "      <td>What is unsupervised learning?</td>\n",
       "      <td>Unsupervised learning is a type of machine lea...</td>\n",
       "    </tr>\n",
       "    <tr>\n",
       "      <th>4</th>\n",
       "      <td>Explain reinforcement learning.</td>\n",
       "      <td>Reinforcement learning is a type of machine le...</td>\n",
       "    </tr>\n",
       "  </tbody>\n",
       "</table>\n",
       "</div>"
      ],
      "text/plain": [
       "                                       Question  \\\n",
       "0                     What is machine learning?   \n",
       "1  What are the main types of machine learning?   \n",
       "2          Can you explain supervised learning?   \n",
       "3                What is unsupervised learning?   \n",
       "4               Explain reinforcement learning.   \n",
       "\n",
       "                                              Answer  \n",
       "0  Machine learning is a subset of artificial int...  \n",
       "1  The main types of machine learning are supervi...  \n",
       "2  Supervised learning is a type of machine learn...  \n",
       "3  Unsupervised learning is a type of machine lea...  \n",
       "4  Reinforcement learning is a type of machine le...  "
      ]
     },
     "execution_count": 7,
     "metadata": {},
     "output_type": "execute_result"
    }
   ],
   "source": [
    "df.head()"
   ]
  },
  {
   "cell_type": "code",
   "execution_count": 8,
   "metadata": {},
   "outputs": [],
   "source": [
    "# embeddings = [encoder.encode(str(ans)) for ans in df.Question]"
   ]
  },
  {
   "cell_type": "code",
   "execution_count": 9,
   "metadata": {},
   "outputs": [],
   "source": [
    "# import pickle\n",
    "# with open(\"embeddings_bert.pkl\",\"wb\") as f:\n",
    "#     pickle.dump(embeddings,f)"
   ]
  },
  {
   "cell_type": "code",
   "execution_count": 10,
   "metadata": {},
   "outputs": [],
   "source": [
    "import pickle\n",
    "with open(\"embeddings_bert.pkl\",\"rb\") as f:\n",
    "    vector_index = pickle.load(f)"
   ]
  },
  {
   "cell_type": "code",
   "execution_count": 11,
   "metadata": {},
   "outputs": [],
   "source": [
    "def get_similar_chunks(query):\n",
    "    similarity_score = []\n",
    "    encoded_query = encoder.encode(query)\n",
    "\n",
    "    for i in vector_index:\n",
    "        similarity_score.append(cosine_similarity([i], [encoded_query])[0, 0])\n",
    "\n",
    "    n = similarity_score.copy()\n",
    "    n.sort(reverse=True)\n",
    "\n",
    "    ind1 = similarity_score.index(n[0])\n",
    "    # ind2 = similarity_score.index(n[1])\n",
    "    lst =  df.Answer[ind1] #+ chunks[ind2].page_content\n",
    "    return lst\n"
   ]
  },
  {
   "cell_type": "code",
   "execution_count": 12,
   "metadata": {},
   "outputs": [
    {
     "data": {
      "text/plain": [
       "'Machine learning is a subset of artificial intelligence that involves the development of algorithms and models that enable computers to learn from data and make predictions or decisions without being explicitly programmed.'"
      ]
     },
     "execution_count": 12,
     "metadata": {},
     "output_type": "execute_result"
    }
   ],
   "source": [
    "get_similar_chunks(\"what is machine learning\")"
   ]
  },
  {
   "cell_type": "code",
   "execution_count": 13,
   "metadata": {},
   "outputs": [],
   "source": [
    "question = [{'question':'who is the prime minister of india ?','context':'''beyond theoretical learning by providing students with ample opportunities to hone their skills. State-of-the-art laboratories equipped with modern technology allow students to experiment, design, and build prototypes, bridging the gap between theory and practice.\n",
    "The college fosters a culture of innovation and entrepreneurship through initiatives like the Incubation Centre, which provides support and guidance to student startups. This hands-on experience equips graduates with the necessary skills to thrive in the dynamic corporate world.SECE recognizes that holistic development is crucial for success. The college provides a vibrant campus life filled with extracurricular activities, events, and clubs. Students can pursue their passions in sports, music, arts, and literature through various clubs and societies.\n",
    "The college also prioritizes physical well-being with well-maintained sports facilities and a focus on healthy living. This holistic approach fosters a positive and supportive environment where students can develop not only their academic skills but also their social and personal skills.SECE's commitment to academic excellence, industry preparedness, and holistic development has earned it a stellar reputation. The college has consistently been ranked among the top engineering colleges in India by various magazines and ranking agencies, a testament to its unwavering dedication to quality education.Prime minister of india is narendra modi'''}]\n",
    "inputs = tokenizer(question[0]['question'],question[0]['context'],return_tensors=\"pt\")\n",
    "output = model(**inputs)"
   ]
  },
  {
   "cell_type": "code",
   "execution_count": 14,
   "metadata": {},
   "outputs": [],
   "source": [
    "def get_answer(question):\n",
    "    context = get_similar_chunks(question)\n",
    "    print(context)\n",
    "    inputs = tokenizer(question,context,return_tensors=\"pt\")\n",
    "    output = model(**inputs)\n",
    "    answer_start_id  = torch.argmax(output.start_logits)\n",
    "    answer_end_id = torch.argmax(output.end_logits)\n",
    "    answer_tokens = inputs.input_ids[0,answer_start_id:answer_end_id+1]\n",
    "    answer = tokenizer.decode(answer_tokens)\n",
    "    if \"<s>\" in answer:\n",
    "        answer = \"Sorry i'm Unable to answer the question...\"\n",
    "    return answer"
   ]
  },
  {
   "cell_type": "code",
   "execution_count": 15,
   "metadata": {},
   "outputs": [
    {
     "name": "stdout",
     "output_type": "stream",
     "text": [
      "Convolutional Neural Networks (CNNs) are a type of neural network designed for processing grid-like data, such as images and video. They use convolutional layers to automatically learn hierarchical representations, making them particularly effective in computer vision tasks like image classification and object detection.\n"
     ]
    },
    {
     "data": {
      "text/plain": [
       "'CNNs) are a type of neural network designed for processing grid-like data'"
      ]
     },
     "execution_count": 15,
     "metadata": {},
     "output_type": "execute_result"
    }
   ],
   "source": [
    "get_answer(\"what is what are convolutional neural networks\")"
   ]
  },
  {
   "cell_type": "code",
   "execution_count": 16,
   "metadata": {},
   "outputs": [
    {
     "name": "stdout",
     "output_type": "stream",
     "text": [
      " * Serving Flask app '__main__'\n",
      " * Debug mode: off\n"
     ]
    },
    {
     "name": "stderr",
     "output_type": "stream",
     "text": [
      "WARNING: This is a development server. Do not use it in a production deployment. Use a production WSGI server instead.\n",
      " * Running on http://127.0.0.1:4000\n",
      "Press CTRL+C to quit\n"
     ]
    },
    {
     "name": "stdout",
     "output_type": "stream",
     "text": [
      "Convolutional Neural Networks (CNNs) are a type of neural network designed for processing grid-like data, such as images and video. They use convolutional layers to automatically learn hierarchical representations, making them particularly effective in computer vision tasks like image classification and object detection.\n"
     ]
    },
    {
     "name": "stderr",
     "output_type": "stream",
     "text": [
      "127.0.0.1 - - [27/Dec/2023 15:53:33] \"GET /bert?query=what%20are%20cnn HTTP/1.1\" 200 -\n"
     ]
    },
    {
     "name": "stdout",
     "output_type": "stream",
     "text": [
      "Convolutional Neural Networks\n"
     ]
    }
   ],
   "source": [
    "from flask import Flask , request , jsonify\n",
    "\n",
    "app = Flask(__name__)\n",
    "\n",
    "@app.route(\"/bert\",methods=[\"GET\"])\n",
    "def return_response():\n",
    "    d = {}\n",
    "    inputtext = str(request.args[\"query\"])\n",
    "    \n",
    "    answer = get_answer(inputtext)\n",
    "    print(answer)\n",
    "    d['output'] = answer\n",
    "    return jsonify(d)\n",
    "\n",
    "app.run(port = 4000)"
   ]
  },
  {
   "cell_type": "markdown",
   "metadata": {},
   "source": []
  },
  {
   "cell_type": "code",
   "execution_count": null,
   "metadata": {},
   "outputs": [],
   "source": []
  },
  {
   "cell_type": "code",
   "execution_count": null,
   "metadata": {},
   "outputs": [],
   "source": []
  }
 ],
 "metadata": {
  "kernelspec": {
   "display_name": "Python 3",
   "language": "python",
   "name": "python3"
  },
  "language_info": {
   "codemirror_mode": {
    "name": "ipython",
    "version": 3
   },
   "file_extension": ".py",
   "mimetype": "text/x-python",
   "name": "python",
   "nbconvert_exporter": "python",
   "pygments_lexer": "ipython3",
   "version": "3.10.6"
  }
 },
 "nbformat": 4,
 "nbformat_minor": 2
}
